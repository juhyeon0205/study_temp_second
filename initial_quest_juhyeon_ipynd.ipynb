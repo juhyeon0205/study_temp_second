{
  "nbformat": 4,
  "nbformat_minor": 0,
  "metadata": {
    "colab": {
      "provenance": [],
      "include_colab_link": true
    },
    "kernelspec": {
      "name": "python3",
      "display_name": "Python 3"
    },
    "language_info": {
      "name": "python"
    }
  },
  "cells": [
    {
      "cell_type": "markdown",
      "metadata": {
        "id": "view-in-github",
        "colab_type": "text"
      },
      "source": [
        "<a href=\"https://colab.research.google.com/github/juhyeon0205/study_temp_second/blob/main/initial_quest_juhyeon_ipynd.ipynb\" target=\"_parent\"><img src=\"https://colab.research.google.com/assets/colab-badge.svg\" alt=\"Open In Colab\"/></a>"
      ]
    },
    {
      "cell_type": "code",
      "execution_count": null,
      "metadata": {
        "colab": {
          "base_uri": "https://localhost:8080/"
        },
        "id": "NqI25LoxFi77",
        "outputId": "3ee31e06-44a8-489d-9113-4d81edb70e73"
      },
      "outputs": [
        {
          "output_type": "stream",
          "name": "stdout",
          "text": [
            "28을 계산했음\n"
          ]
        }
      ],
      "source": [
        "# quest\n",
        "input_first = 4\n",
        "input_second = 7\n",
        "result = str(input_first * input_second) + \"을 계산했음\"\n",
        "print(result)"
      ]
    },
    {
      "cell_type": "code",
      "source": [
        "# quest\n",
        "input_first = 9\n",
        "input_second = 1\n",
        "result = str(input_first * input_second) + \"을 계산했음\"\n",
        "print(result)"
      ],
      "metadata": {
        "colab": {
          "base_uri": "https://localhost:8080/"
        },
        "id": "mObsPQQSFyMb",
        "outputId": "326fc7b9-465d-4f07-efd1-cbe54bd232f3"
      },
      "execution_count": null,
      "outputs": [
        {
          "output_type": "stream",
          "name": "stdout",
          "text": [
            "9을 계산했음\n"
          ]
        }
      ]
    },
    {
      "cell_type": "code",
      "source": [],
      "metadata": {
        "id": "ITkNgm2JF8Qi"
      },
      "execution_count": null,
      "outputs": []
    }
  ]
}